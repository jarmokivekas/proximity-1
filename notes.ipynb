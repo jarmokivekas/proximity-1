{
  "cells": [
    {
      "cell_type": "code",
      "source": [
        "# LDPC encode codeword generator\n",
        "# HACK: does not work correctly\n",
        "\n",
        "def poly(init):\n",
        "    x = init\n",
        "    iters = 0\n",
        "    while(1):\n",
        "        iters += 1\n",
        "        yieldval = (x**8 + x**6 + x**4 + x**3 +x**2 + x +1) & 0xff\n",
        "        yield yieldval\n",
        "        x = yieldval\n",
        "        if iters >= 10:\n",
        "            return\n",
        "        \n",
        "for i in poly(6):\n",
        "    print(i)"
      ],
      "outputs": [
        {
          "output_type": "stream",
          "name": "stdout",
          "text": [
            "83\n",
            "115\n",
            "115\n",
            "115\n",
            "115\n",
            "115\n",
            "115\n",
            "115\n",
            "115\n",
            "115\n"
          ]
        }
      ],
      "execution_count": 21,
      "metadata": {
        "collapsed": false,
        "outputHidden": false,
        "inputHidden": false
      }
    },
    {
      "cell_type": "code",
      "source": [
        "def shift():\n",
        "    iters = 0\n",
        "    x = 0\n",
        "    while(1):\n",
        "        yield x\n",
        "        x = \n",
        "    "
      ],
      "outputs": [],
      "execution_count": null,
      "metadata": {
        "collapsed": false,
        "outputHidden": false,
        "inputHidden": false
      }
    },
    {
      "cell_type": "code",
      "source": [
        "mask = 0b1111_1111_0011_1001_1001_1110_0101_1010_0110_1000\n",
        "mask"
      ],
      "outputs": [
        {
          "output_type": "execute_result",
          "execution_count": 22,
          "data": {
            "text/plain": [
              "1096183339624"
            ]
          },
          "metadata": {}
        }
      ],
      "execution_count": 22,
      "metadata": {
        "collapsed": false,
        "outputHidden": false,
        "inputHidden": false
      }
    }
  ],
  "metadata": {
    "kernel_info": {
      "name": "python3"
    },
    "kernelspec": {
      "name": "python3",
      "language": "python",
      "display_name": "Python 3"
    },
    "language_info": {
      "name": "python",
      "version": "3.6.3",
      "mimetype": "text/x-python",
      "codemirror_mode": {
        "name": "ipython",
        "version": 3
      },
      "pygments_lexer": "ipython3",
      "nbconvert_exporter": "python",
      "file_extension": ".py"
    },
    "nteract": {
      "version": "0.8.3"
    }
  },
  "nbformat": 4,
  "nbformat_minor": 4
}